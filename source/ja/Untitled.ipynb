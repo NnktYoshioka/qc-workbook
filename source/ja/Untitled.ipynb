{
 "cells": [
  {
   "cell_type": "code",
   "execution_count": 1,
   "id": "eb59b858-5a3c-4f64-a76e-a6373042b5af",
   "metadata": {},
   "outputs": [],
   "source": [
    "import numpy as np"
   ]
  },
  {
   "cell_type": "code",
   "execution_count": 2,
   "id": "177d497b-85ec-48e9-a947-53f1bddc20b9",
   "metadata": {},
   "outputs": [
    {
     "data": {
      "text/plain": [
       "0.004330127018922193"
      ]
     },
     "execution_count": 2,
     "metadata": {},
     "output_type": "execute_result"
    }
   ],
   "source": [
    "np.sqrt(0.25 * (1. - 0.25) / 10000)"
   ]
  },
  {
   "cell_type": "code",
   "execution_count": 5,
   "id": "e054be2f-b048-432e-97cc-5134e1332e3f",
   "metadata": {},
   "outputs": [
    {
     "data": {
      "text/plain": [
       "array([246, 300, 103, 351])"
      ]
     },
     "execution_count": 5,
     "metadata": {},
     "output_type": "execute_result"
    }
   ],
   "source": [
    "np.random.multinomial(1000, [0.25, 0.3, 0.1, 0.35])"
   ]
  },
  {
   "cell_type": "code",
   "execution_count": 6,
   "id": "fc0db2b7-a9e3-4dcb-b8e9-46a3e141bcd1",
   "metadata": {},
   "outputs": [],
   "source": [
    "res = np.array([246, 300, 103, 351])"
   ]
  },
  {
   "cell_type": "code",
   "execution_count": 8,
   "id": "70cc64f8-943b-4c55-be4c-79bba9994927",
   "metadata": {},
   "outputs": [
    {
     "data": {
      "text/plain": [
       "array([0.01361925, 0.01449138, 0.00961202, 0.01509301])"
      ]
     },
     "execution_count": 8,
     "metadata": {},
     "output_type": "execute_result"
    }
   ],
   "source": [
    "p = res / 1000.\n",
    "np.sqrt(p * (1. - p) / 1000.)"
   ]
  },
  {
   "cell_type": "code",
   "execution_count": 9,
   "id": "dab6f34c-c878-47e7-8d5d-054ec6459bc0",
   "metadata": {},
   "outputs": [
    {
     "data": {
      "text/plain": [
       "array([0.246, 0.3  , 0.103, 0.351])"
      ]
     },
     "execution_count": 9,
     "metadata": {},
     "output_type": "execute_result"
    }
   ],
   "source": [
    "p"
   ]
  },
  {
   "cell_type": "code",
   "execution_count": 13,
   "id": "62e11c2e-4e8b-4296-ba21-157781359938",
   "metadata": {},
   "outputs": [],
   "source": [
    "import json\n",
    "d = json.loads(r'''{\"changed\": false, \"module_stderr\": \"Shared connection to iutweb01.iut.icepp.s.u-tokyo.ac.jp closed.\\r\\n\", \"module_stdout\": \"Traceback (most recent call last):\\r\\n  File \\\"/root/.ansible/tmp/ansible-tmp-1648624596.394823-146122-38761280563485/AnsiballZ_x509_certificate_info.py\\\", line 100, in <module>\\r\\n    _ansiballz_main()\\r\\n  File \\\"/root/.ansible/tmp/ansible-tmp-1648624596.394823-146122-38761280563485/AnsiballZ_x509_certificate_info.py\\\", line 92, in _ansiballz_main\\r\\n    invoke_module(zipped_mod, temp_path, ANSIBALLZ_PARAMS)\\r\\n  File \\\"/root/.ansible/tmp/ansible-tmp-1648624596.394823-146122-38761280563485/AnsiballZ_x509_certificate_info.py\\\", line 40, in invoke_module\\r\\n    runpy.run_module(mod_name='ansible_collections.community.crypto.plugins.modules.x509_certificate_info', init_globals=dict(_module_fqn='ansible_collections.community.crypto.plugins.modules.x509_certificate_info', _modlib_path=modlib_path),\\r\\n  File \\\"/usr/lib/python3.8/runpy.py\\\", line 207, in run_module\\r\\n    return _run_module_code(code, init_globals, run_name, mod_spec)\\r\\n  File \\\"/usr/lib/python3.8/runpy.py\\\", line 97, in _run_module_code\\r\\n    _run_code(code, mod_globals, init_globals,\\r\\n  File \\\"/usr/lib/python3.8/runpy.py\\\", line 87, in _run_code\\r\\n    exec(code, run_globals)\\r\\n  File \\\"/tmp/ansible_community.crypto.x509_certificate_info_payload_tuw4sgaj/ansible_community.crypto.x509_certificate_info_payload.zip/ansible_collections/community/crypto/plugins/modules/x509_certificate_info.py\\\", line 452, in <module>\\r\\n  File \\\"/tmp/ansible_community.crypto.x509_certificate_info_payload_tuw4sgaj/ansible_community.crypto.x509_certificate_info_payload.zip/ansible_collections/community/crypto/plugins/modules/x509_certificate_info.py\\\", line 436, in main\\r\\n  File \\\"/tmp/ansible_community.crypto.x509_certificate_info_payload_tuw4sgaj/ansible_community.crypto.x509_certificate_info_payload.zip/ansible_collections/community/crypto/plugins/module_utils/crypto/module_backends/certificate_info.py\\\", line 228, in get_info\\r\\n  File \\\"/tmp/ansible_community.crypto.x509_certificate_info_payload_tuw4sgaj/ansible_community.crypto.x509_certificate_info_payload.zip/ansible_collections/community/crypto/plugins/module_utils/crypto/module_backends/certificate_info.py\\\", line 381, in _get_all_extensions\\r\\n  File \\\"/tmp/ansible_community.crypto.x509_certificate_info_payload_tuw4sgaj/ansible_community.crypto.x509_certificate_info_payload.zip/ansible_collections/community/crypto/plugins/module_utils/crypto/cryptography_support.py\\\", line 71, in cryptography_get_extensions_from_cert\\r\\nAttributeError: 'builtins.Certificate' object has no attribute '_backend'\\r\\n\", \"msg\": \"MODULE FAILURE\\nSee stdout/stderr for the exact error\", \"rc\": 1}''')\n"
   ]
  },
  {
   "cell_type": "code",
   "execution_count": 16,
   "id": "98cd688d-04d2-4c32-8e3c-5bd4e671eb03",
   "metadata": {},
   "outputs": [
    {
     "data": {
      "text/plain": [
       "dict_keys(['changed', 'module_stderr', 'module_stdout', 'msg', 'rc'])"
      ]
     },
     "execution_count": 16,
     "metadata": {},
     "output_type": "execute_result"
    }
   ],
   "source": [
    "d.keys()"
   ]
  },
  {
   "cell_type": "code",
   "execution_count": 17,
   "id": "b3b00c70-faeb-4f96-9603-22fe193bb312",
   "metadata": {},
   "outputs": [
    {
     "name": "stdout",
     "output_type": "stream",
     "text": [
      "Traceback (most recent call last):\n",
      "  File \"/root/.ansible/tmp/ansible-tmp-1648624596.394823-146122-38761280563485/AnsiballZ_x509_certificate_info.py\", line 100, in <module>\n",
      "    _ansiballz_main()\n",
      "  File \"/root/.ansible/tmp/ansible-tmp-1648624596.394823-146122-38761280563485/AnsiballZ_x509_certificate_info.py\", line 92, in _ansiballz_main\n",
      "    invoke_module(zipped_mod, temp_path, ANSIBALLZ_PARAMS)\n",
      "  File \"/root/.ansible/tmp/ansible-tmp-1648624596.394823-146122-38761280563485/AnsiballZ_x509_certificate_info.py\", line 40, in invoke_module\n",
      "    runpy.run_module(mod_name='ansible_collections.community.crypto.plugins.modules.x509_certificate_info', init_globals=dict(_module_fqn='ansible_collections.community.crypto.plugins.modules.x509_certificate_info', _modlib_path=modlib_path),\n",
      "  File \"/usr/lib/python3.8/runpy.py\", line 207, in run_module\n",
      "    return _run_module_code(code, init_globals, run_name, mod_spec)\n",
      "  File \"/usr/lib/python3.8/runpy.py\", line 97, in _run_module_code\n",
      "    _run_code(code, mod_globals, init_globals,\n",
      "  File \"/usr/lib/python3.8/runpy.py\", line 87, in _run_code\n",
      "    exec(code, run_globals)\n",
      "  File \"/tmp/ansible_community.crypto.x509_certificate_info_payload_tuw4sgaj/ansible_community.crypto.x509_certificate_info_payload.zip/ansible_collections/community/crypto/plugins/modules/x509_certificate_info.py\", line 452, in <module>\n",
      "  File \"/tmp/ansible_community.crypto.x509_certificate_info_payload_tuw4sgaj/ansible_community.crypto.x509_certificate_info_payload.zip/ansible_collections/community/crypto/plugins/modules/x509_certificate_info.py\", line 436, in main\n",
      "  File \"/tmp/ansible_community.crypto.x509_certificate_info_payload_tuw4sgaj/ansible_community.crypto.x509_certificate_info_payload.zip/ansible_collections/community/crypto/plugins/module_utils/crypto/module_backends/certificate_info.py\", line 228, in get_info\n",
      "  File \"/tmp/ansible_community.crypto.x509_certificate_info_payload_tuw4sgaj/ansible_community.crypto.x509_certificate_info_payload.zip/ansible_collections/community/crypto/plugins/module_utils/crypto/module_backends/certificate_info.py\", line 381, in _get_all_extensions\n",
      "  File \"/tmp/ansible_community.crypto.x509_certificate_info_payload_tuw4sgaj/ansible_community.crypto.x509_certificate_info_payload.zip/ansible_collections/community/crypto/plugins/module_utils/crypto/cryptography_support.py\", line 71, in cryptography_get_extensions_from_cert\n",
      "AttributeError: 'builtins.Certificate' object has no attribute '_backend'\n",
      "\n"
     ]
    }
   ],
   "source": [
    "print(d['module_stdout'])"
   ]
  },
  {
   "cell_type": "code",
   "execution_count": 19,
   "id": "7baabc2d-cc06-4f36-85b4-09c57ddda02c",
   "metadata": {},
   "outputs": [],
   "source": [
    "from qiskit import IBMQ\n",
    "\n",
    "IBMQ.load_account()\n",
    "provider = IBMQ.get_provider(hub='ibm-q', group='open', project='main')\n",
    "\n",
    "backend = provider.get_backend('ibmq_armonk')"
   ]
  },
  {
   "cell_type": "code",
   "execution_count": 20,
   "id": "b5145651-b038-4683-9b16-73dbc1360ec0",
   "metadata": {},
   "outputs": [
    {
     "data": {
      "text/plain": [
       "['__class__',\n",
       " '__contains__',\n",
       " '__delattr__',\n",
       " '__dict__',\n",
       " '__dir__',\n",
       " '__doc__',\n",
       " '__eq__',\n",
       " '__format__',\n",
       " '__ge__',\n",
       " '__getattr__',\n",
       " '__getattribute__',\n",
       " '__gt__',\n",
       " '__hash__',\n",
       " '__init__',\n",
       " '__init_subclass__',\n",
       " '__le__',\n",
       " '__lt__',\n",
       " '__module__',\n",
       " '__ne__',\n",
       " '__new__',\n",
       " '__reduce__',\n",
       " '__reduce_ex__',\n",
       " '__repr__',\n",
       " '__setattr__',\n",
       " '__sizeof__',\n",
       " '__str__',\n",
       " '__subclasshook__',\n",
       " '__weakref__',\n",
       " '_channel_qubit_map',\n",
       " '_control_channels',\n",
       " '_data',\n",
       " '_get_channel_prefix_index',\n",
       " '_parse_channels',\n",
       " '_qubit_channel_map',\n",
       " 'acquire',\n",
       " 'acquisition_latency',\n",
       " 'backend_name',\n",
       " 'backend_version',\n",
       " 'basis_gates',\n",
       " 'channels',\n",
       " 'conditional',\n",
       " 'conditional_latency',\n",
       " 'control',\n",
       " 'control_channels',\n",
       " 'coupling_map',\n",
       " 'credits_required',\n",
       " 'describe',\n",
       " 'description',\n",
       " 'discriminators',\n",
       " 'drive',\n",
       " 'dt',\n",
       " 'dtm',\n",
       " 'dynamic_reprate_enabled',\n",
       " 'from_dict',\n",
       " 'gates',\n",
       " 'get_channel_qubits',\n",
       " 'get_qubit_channels',\n",
       " 'hamiltonian',\n",
       " 'local',\n",
       " 'max_experiments',\n",
       " 'max_shots',\n",
       " 'meas_kernels',\n",
       " 'meas_levels',\n",
       " 'meas_lo_range',\n",
       " 'meas_map',\n",
       " 'measure',\n",
       " 'memory',\n",
       " 'n_qubits',\n",
       " 'n_registers',\n",
       " 'n_uchannels',\n",
       " 'num_qubits',\n",
       " 'online_date',\n",
       " 'open_pulse',\n",
       " 'parametric_pulses',\n",
       " 'processor_type',\n",
       " 'qubit_lo_range',\n",
       " 'rep_times',\n",
       " 'sample_name',\n",
       " 'sample_rate',\n",
       " 'simulator',\n",
       " 'supported_instructions',\n",
       " 'to_dict',\n",
       " 'u_channel_lo']"
      ]
     },
     "execution_count": 20,
     "metadata": {},
     "output_type": "execute_result"
    }
   ],
   "source": [
    "dir(backend.configuration())"
   ]
  },
  {
   "cell_type": "code",
   "execution_count": null,
   "id": "fcd19d75-1e15-40f6-a082-38a6b94ad6ee",
   "metadata": {},
   "outputs": [],
   "source": []
  }
 ],
 "metadata": {
  "kernelspec": {
   "display_name": "Python 3 (ipykernel)",
   "language": "python",
   "name": "python3"
  },
  "language_info": {
   "codemirror_mode": {
    "name": "ipython",
    "version": 3
   },
   "file_extension": ".py",
   "mimetype": "text/x-python",
   "name": "python",
   "nbconvert_exporter": "python",
   "pygments_lexer": "ipython3",
   "version": "3.8.10"
  }
 },
 "nbformat": 4,
 "nbformat_minor": 5
}
