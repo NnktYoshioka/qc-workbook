{
 "cells": [
  {
   "cell_type": "markdown",
   "id": "54acfd29-87a5-4607-8e19-b79ccff2d8e2",
   "metadata": {},
   "source": [
    "# 予備知識：Python\n",
    "\n",
    "```{contents} 目次\n",
    "---\n",
    "local: true\n",
    "---\n",
    "```"
   ]
  },
  {
   "cell_type": "markdown",
   "id": "38aed306-466e-4f8b-bdd0-c08904902874",
   "metadata": {},
   "source": [
    "## 基礎\n",
    "\n",
    "Pythonに関する教材は世の中にいくらでもあるので、このワークブックで登場する概念・構文・テクニックに絞って説明をします。\n",
    "\n",
    "```{admonition} すでにプログラミング経験がある場合\n",
    "「CやJavaなどのプログラミング経験はあるが、Pythonは初めて」という人の理解を助けるために、随所でこのように注釈を入れます。プログラミング経験が一切ないという場合は無視して構いません。\n",
    "```\n",
    "\n",
    "### Pythonプログラムとは\n",
    "\n",
    "プログラムとは、機械が順番に実行するべき命令を、決まった文法に従って書き下した文書のことです。プログラムには様々な言語があり、それぞれ用途や扱える命令群が異なります。Pythonは世界で最も広く使われている言語の一つで、扱える命令の多様さ、表現性の高さ、フレキシビリティが最大の特徴です。\n",
    "\n",
    "### 行構造\n",
    "\n",
    "最も単純には、Pythonのプログラムは一行一つの命令文で成り立ちます。各行で`#`が登場したら、それ以降のテキストは「コメント」として無視されます。また、空白（スペースやタブ）のみを含む行も無視されます。"
   ]
  },
  {
   "cell_type": "code",
   "execution_count": 1,
   "id": "ea0a98f9-8b3d-482d-9aea-8b927359a1b8",
   "metadata": {},
   "outputs": [],
   "source": [
    "# aという変数に3という値を代入する命令文\n",
    "a = 3"
   ]
  },
  {
   "cell_type": "code",
   "execution_count": 1,
   "id": "54e0b1ca-154a-409f-bd89-112d9bd46aea",
   "metadata": {},
   "outputs": [],
   "source": [
    "# aに代入されている値と5を掛け算してbという変数に代入する命令文\n",
    "b = a * 5"
   ]
  },
  {
   "cell_type": "code",
   "execution_count": 1,
   "id": "42600759-e75d-4353-bb25-7d5e10ba62d3",
   "metadata": {},
   "outputs": [
    {
     "name": "stdout",
     "output_type": "stream",
     "text": [
      "15\n"
     ]
    }
   ],
   "source": [
    "# bの文字列表現をプリントアウトする命令文\n",
    "print(b)"
   ]
  },
  {
   "cell_type": "markdown",
   "id": "e16ec0eb-d741-406b-b6d1-68b3f08a3ef5",
   "metadata": {},
   "source": [
    "変数は（変「数」と書きますが）数値だけではなく、プログラム中で扱う様々な構造（あとで言うオブジェクト）を表します。\n",
    "\n",
    "```{admonition} 変数の生成\n",
    "CやJavaなどの言語と異なり、Pythonでは変数を明示的に宣言しません。上のコードのように、値の代入をもって変数の宣言と初期化が行われます。また、変数は型を限定しないので、同じ変数名を別の型の値に使うことができます。\n",
    "```"
   ]
  },
  {
   "cell_type": "code",
   "execution_count": 2,
   "id": "a26263fc-ae3a-431c-bf16-c89724ff5c25",
   "metadata": {},
   "outputs": [
    {
     "name": "stdout",
     "output_type": "stream",
     "text": [
      "Hello World\n"
     ]
    }
   ],
   "source": [
    "# sという変数に「abc」という文字列を代入\n",
    "# ' (single quote)もしくは \" (double quote) で挟まれたテキストは文字列となる\n",
    "s = 'Hello World'\n",
    "\n",
    "print(s)"
   ]
  },
  {
   "cell_type": "markdown",
   "id": "3b9cb52a-8e21-4cc2-8e93-72474087667f",
   "metadata": {},
   "source": [
    "```{admonition} 文字列\n",
    "C/C++と異なり、Pythonでは文字（character）と文字列（string）の区別がありません。文字情報は全て文字列です。また、' (single quote)と \" (double quote)の間に機能的な違いもありません。\n",
    "```"
   ]
  },
  {
   "cell_type": "code",
   "execution_count": null,
   "id": "6a665c1c-5476-479d-b134-92244b6cac2a",
   "metadata": {},
   "outputs": [],
   "source": [
    "# bという変数を真理値型の「真」で再定義\n",
    "b = True"
   ]
  },
  {
   "cell_type": "markdown",
   "id": "eb14c4b8-3515-43ac-8f0f-5a7c168e0a31",
   "metadata": {},
   "source": [
    "あとで解説する関数やクラスの定義、`if`、`for`、`try`/`except`などの複合文では、全ての行を一定数の空白文字分（通常スペース4つ、流儀によっては2つ。タブ文字は使うべきでない）だけインデントさせます。"
   ]
  },
  {
   "cell_type": "code",
   "execution_count": null,
   "id": "d4fa3f8c-4c94-4d2e-9c38-ea54aa42857e",
   "metadata": {},
   "outputs": [],
   "source": [
    "if b:\n",
    "    # bの値が真の時、インデントされている部分が実行される\n",
    "    print('b is True')\n",
    "    print('This line is also executed')\n",
    "    \n",
    "else:\n",
    "    # bの値が偽の時、インデントされている部分が実行される\n",
    "    print('b is False')\n",
    "    print('This line is also not executed')\n",
    "    \n",
    "# インデンテーションが解消された＝if文を抜けた\n",
    "print('This line is always executed')"
   ]
  },
  {
   "cell_type": "markdown",
   "id": "5a83072d-3a46-452b-a654-a9f7de78ba07",
   "metadata": {},
   "source": [
    "```{admonition} インデンテーション\n",
    "C/C++やJavaなどではコードのブロックは{}括弧で括られるため、インデンテーションは単に人間がコードを読みやすくするための飾りです。Pythonではインデンテーションがプログラム上の意味を持ちます。\n",
    "```"
   ]
  },
  {
   "cell_type": "markdown",
   "id": "0138de8e-0a24-4a09-bb65-e16f1640f738",
   "metadata": {},
   "source": [
    "### 演算子\n",
    "\n",
    "数値に対して使える、様々な演算子が用意されています。"
   ]
  },
  {
   "cell_type": "code",
   "execution_count": 4,
   "id": "4ffe557a-47ba-4c07-a1c9-45f824e6087b",
   "metadata": {},
   "outputs": [
    {
     "name": "stdout",
     "output_type": "stream",
     "text": [
      "a + 2 = 5\n",
      "a - 2 = 1\n",
      "-a = -3\n",
      "-(-a) = 3\n",
      "a * 3 = 9\n",
      "a / 2 = 1.5\n",
      "a // 2 = 1\n",
      "a % 2 = 1\n",
      "a < 4 is True\n",
      "a <= 3 is True\n",
      "a > 5 is False\n",
      "a >= 1 is True\n",
      "a == 3 is True\n",
      "a != 7 is True\n"
     ]
    }
   ],
   "source": [
    "# 足し算\n",
    "print('a + 2 =', a + 2) # print()は中身を , (comma) で区切ることで、複数の表現をプリントアウトできる\n",
    "# 引き算\n",
    "print('a - 2 =', a - 2)\n",
    "# 符号反転\n",
    "print('-a =', -a)\n",
    "# 括弧\n",
    "print('-(-a) =', -(-a))\n",
    "# 掛け算\n",
    "print('a * 3 =', a * 3)\n",
    "# 割り算\n",
    "print('a / 2 =', a / 2)\n",
    "# 切り捨て除算（整数の割り算における商）\n",
    "print('a // 2 =', a // 2)\n",
    "# 剰余\n",
    "print('a % 2 =', a % 2)\n",
    "# べき乗\n",
    "print('a ** 3 =', a ** 3)\n",
    "# 比較\n",
    "print('a < 4 is', a < 4) # 4より小さい\n",
    "print('a <= 3 is', a <= 3) # 3以下\n",
    "print('a > 5 is', a > 5) # 5より大きい\n",
    "print('a >= 1 is', a >= 1) # 1以上\n",
    "print('a == 3 is', a == 3) # 3と等しい\n",
    "print('a != 7 is', a != 7) # 7と等しくない"
   ]
  },
  {
   "cell_type": "markdown",
   "id": "aa84db81-1488-498f-8137-e150f4d464df",
   "metadata": {},
   "source": [
    "他にもビットシフト演算子などが存在しますが、このワークブックでは使用しないので割愛します。\n",
    "\n",
    "```{admonition} 割り算\n",
    "Python 3では、/演算子は、整数同士に用いられたとしても、true divisionつまり浮動小数点数同士の割り算を引き起こします。\n",
    "```\n",
    "\n",
    "実は上の演算子の多くが数値以外にも使え、なんとなくそうなるかな、という直感的な効果を持ちます。Pythonの表現性が高い一つの理由がこれです。例えば文字列に対しては以下のようになります。"
   ]
  },
  {
   "cell_type": "code",
   "execution_count": 6,
   "id": "b77833cf-f53f-4a26-ae37-ea50de023b8c",
   "metadata": {},
   "outputs": [
    {
     "name": "stdout",
     "output_type": "stream",
     "text": [
      "\"abc\" + \"xyz\" =  abcxyz\n",
      "\"ha\" * 3 = hahaha\n",
      "\"abc\" < \"def\" is True\n",
      "\"xy\" <= \"xyz\" is True\n"
     ]
    }
   ],
   "source": [
    "# 文字列と文字列を足し合わせる -> 文字列の結合\n",
    "print('\"abc\" + \"xyz\" = ', \"abc\" + \"xyz\")\n",
    "# 文字列を整数倍する -> 文字列の反復\n",
    "print('\"ha\" * 3 =', \"ha\" * 3)\n",
    "# 文字列の比較 -> 辞書式順序での比較\n",
    "print('\"abc\" < \"def\" is', \"abc\" < \"def\")\n",
    "print('\"xy\" <= \"xyz\" is', \"xy\" <= \"xyz\")\n",
    "# etc."
   ]
  },
  {
   "cell_type": "markdown",
   "id": "18d66ec0-705d-42a1-a293-76ae0a9fdd95",
   "metadata": {},
   "source": [
    "### 基本のデータ型\n",
    "\n",
    "変数が表すデータには様々な「型」（タイプ）があります。文字と数は異なる、というのはプログラムに限らず現実世界でも成り立つ関係です。型ごとに行える操作が異なるので、データの型を常に意識しながらプログラムを書く必要があります。後で一般のクラスについて解説をするので、ここではPythonの組み込み型と言われる、言語レベルで定義されている基本的な型を紹介します。\n",
    "\n",
    "#### 数値型 int, float, complex\n",
    "\n",
    "数値を表す型には`int`（整数）、`float`（実数）、`complex`（複素数）があります。数学的には包含関係にある3つの型ですが、コンピュータ的には実数と複素数は「浮動小数点数」で実装されるため整数と根本的に異なります。複素数は浮動小数点数を2つ一組にし、複素数特有の演算規則を当てはめたものです。\n",
    "\n",
    "3つの型は異なりますが、全て数値を表すものであるため、演算の互換性があります。型が混在する演算の結果は数学的な包含関係に従います。"
   ]
  },
  {
   "cell_type": "code",
   "execution_count": 7,
   "id": "6ecb4e07-50d4-4e6c-855b-928deb14ef09",
   "metadata": {},
   "outputs": [
    {
     "name": "stdout",
     "output_type": "stream",
     "text": [
      "<class 'float'>\n",
      "<class 'float'>\n",
      "<class 'complex'>\n",
      "<class 'complex'>\n"
     ]
    }
   ],
   "source": [
    "# 整数\n",
    "i = 43\n",
    "# 実数\n",
    "f = 5.4\n",
    "# 複素数\n",
    "c = 2.3 + 0.9j\n",
    "\n",
    "# 数学的には整数でも、小数点が入ると実数型になる\n",
    "print('type of 7.0 is', type(7.0)) # type()はデータの型を返す関数\n",
    "\n",
    "# intとfloatとの間の演算の結果はfloat\n",
    "print('type of i + 8.0 is', type(i + 8.0))\n",
    "# int/floatとcomplexとの間の演算の結果はcomplex\n",
    "print('type of i + 2.0j is', type(i + 2.0j))\n",
    "print('type of f * c is', type(f * c))"
   ]
  },
  {
   "cell_type": "markdown",
   "id": "734e01bb-5041-4eb8-99a3-572bdd79bc31",
   "metadata": {},
   "source": [
    "#### 文字列型 str\n",
    "\n",
    "すでに上で登場していますが、' (single quote)もしくは \" (double quote)で囲まれたテキストは文字列データとなります。二つの記号の間に機能上の違いはありません。なぜ二通り記号が用意されているかというと、プログラマ個人の嗜好に合わせられるという以外に、以下のようなコードを書きやすくするためです。"
   ]
  },
  {
   "cell_type": "code",
   "execution_count": null,
   "id": "f3610d17-5961-494b-8efc-491ddc8e4e6f",
   "metadata": {},
   "outputs": [],
   "source": [
    "print('The world says \"Hello\" in single quotes')"
   ]
  },
  {
   "cell_type": "markdown",
   "id": "75fd271d-b19f-4911-a0ee-37315308ac1e",
   "metadata": {},
   "source": [
    "同じことを例えばdouble quotesだけで表現することもできます。その場合、文字列中のクオーテーション記号にバックスラッシュを付け、文字列を囲む記号と区別します。"
   ]
  },
  {
   "cell_type": "code",
   "execution_count": null,
   "id": "d8fd4a38-6cb5-47b5-a4b3-9ccf6a9531b7",
   "metadata": {},
   "outputs": [],
   "source": [
    "print(\"The world says \\\"Hello\\\" in double quotes\")"
   ]
  },
  {
   "cell_type": "markdown",
   "id": "ceaf6a44-342a-43bb-aeb3-09ffc99d0c92",
   "metadata": {},
   "source": [
    "上に比べて少しコードが読みにくくなりますね。\n",
    "\n",
    "単純なquotesで囲まれた文字列はPythonプログラム中、一行で書ききらなければいけないので、書きたいテキストが改行を含む場合は改行文字`\\n`（backslash-n）を挿入します。"
   ]
  },
  {
   "cell_type": "code",
   "execution_count": null,
   "id": "38a5b928-cd94-4bf0-9c44-e2c8890dbf2a",
   "metadata": {},
   "outputs": [],
   "source": [
    "print('This text has\\ntwo lines')"
   ]
  },
  {
   "cell_type": "markdown",
   "id": "4850c097-4753-413c-b09a-71ebd880059e",
   "metadata": {},
   "source": [
    "これもまた読みにくいので、実はsingle quotesとdouble quotes以外にそれらの記号を3つ並べた`'''`や`\"\"\"`（三重クオート）でテキストを囲み、改行を含む文字列をそのまま書くこともできます。"
   ]
  },
  {
   "cell_type": "code",
   "execution_count": null,
   "id": "55112011-405a-41e0-802a-8a2b9b09f049",
   "metadata": {},
   "outputs": [],
   "source": [
    "s = '''This\n",
    "is\n",
    "such\n",
    "a\n",
    "long\n",
    "string'''\n",
    "print(s)"
   ]
  },
  {
   "cell_type": "markdown",
   "id": "0bcfb0ec-2f9f-431e-b8f9-efd953bb5437",
   "metadata": {},
   "source": [
    "改行やクオーテーション以外にも「特殊文字」があり、全てバックスラッシュで始まります。実際、通常の文字列中でバックスラッシュが一つ登場すると、Pythonはそのバックスラッシュと次の文字（場合によっては複数字）を組み合わせて特殊文字として解釈します。なので、実際のバックスラッシュをテキスト中に登場させたい場合（LaTeXのテキストを書いているときなど）は、一つだけ書くと解釈されないので、`\\\\`という特殊文字を利用します。"
   ]
  },
  {
   "cell_type": "code",
   "execution_count": 11,
   "id": "52472be1-898a-463b-94b7-3744e2d9ef8a",
   "metadata": {},
   "outputs": [
    {
     "name": "stdout",
     "output_type": "stream",
     "text": [
      "\\frac{1}{\\sqrt{2}}\n"
     ]
    }
   ],
   "source": [
    "print('\\\\sqrt{2}')"
   ]
  },
  {
   "cell_type": "markdown",
   "id": "4aef474b-2cc2-46f7-8155-382ec1ad9d9b",
   "metadata": {},
   "source": [
    "これも読みにくいテキストになってしまうので、バックスラッシュがたくさん使われる文字列を書く場合は、`r`というプレフィックスをクオーテーションの前にくっつけます。`r`のついた文字列中では、バックスラッシュが特殊文字として解釈されません。"
   ]
  },
  {
   "cell_type": "code",
   "execution_count": null,
   "id": "16c5927f-f0c1-4070-8acc-6a6e7bf78840",
   "metadata": {},
   "outputs": [],
   "source": [
    "print(r'\\frac{e^{2 \\pi i j k}}{\\sqrt{2}}')"
   ]
  },
  {
   "cell_type": "markdown",
   "id": "3957c256-9957-44fb-a959-2aecc6446fe8",
   "metadata": {},
   "source": []
  },
  {
   "cell_type": "markdown",
   "id": "bbc07686-ab4e-46b7-af44-22743b9b4e2a",
   "metadata": {},
   "source": [
    "#### 配列型 tuple, list\n",
    "\n",
    "複数のデータをひとまとめに並べておくと便利なことが多々あります。"
   ]
  },
  {
   "cell_type": "markdown",
   "id": "48eb0d0b-0757-4663-90a4-bd46ae36e417",
   "metadata": {},
   "source": [
    "#### 辞書型 dict"
   ]
  },
  {
   "cell_type": "markdown",
   "id": "4655e53e-cf47-4564-b875-e9492ee85e6d",
   "metadata": {},
   "source": [
    "#### 真理値型 bool\n",
    "\n",
    "真理値を表す`bool`型には`True`または`False`の二通りの値しかありません。その代わり、様々な表現が真理値に明示的・暗示的に変換可能で、後述する`if`文などで利用されます。表現を明示的に真理値に変えるには`bool()`関数に表現を渡します。"
   ]
  },
  {
   "cell_type": "code",
   "execution_count": 10,
   "id": "1b4177ab-7269-44f5-91e2-00f74ada2a42",
   "metadata": {},
   "outputs": [
    {
     "name": "stdout",
     "output_type": "stream",
     "text": [
      "bool(1) = True\n",
      "bool(0) = False\n",
      "bool(2.3) = True\n",
      "bool(0.) = False\n",
      "bool(3.7+0.j) = True\n",
      "bool(0.+0.j) = False\n",
      "bool(\"\") = False\n",
      "bool(\"Hello\") = True\n"
     ]
    }
   ],
   "source": [
    "# 数値を真理値に変換。0、0.0、0.0+0.0j以外は全てTrue\n",
    "print('bool(1) =', bool(1))\n",
    "print('bool(0) =', bool(0))\n",
    "print('bool(2.3) =', bool(2.3))\n",
    "print('bool(0.) =', bool(0.)) # 小数点以下がゼロであるときにデータが実数型であることを表現するためには、小数点を末尾につける\n",
    "print('bool(3.7+0.j) =', bool(3.7+0.j))\n",
    "print('bool(0.+0.j) =', bool(0.+0.j))\n",
    "\n",
    "# 文字列を真理値に変換。長さ0の文字列以外は全てTrue\n",
    "print('bool(\"\") =', bool(\"\"))\n",
    "print('bool(\"Hello\") =', bool(\"Hello\"))"
   ]
  },
  {
   "cell_type": "markdown",
   "id": "45d892cd-02a3-4068-9061-e0a3757869f2",
   "metadata": {},
   "source": [
    "### 関数"
   ]
  },
  {
   "cell_type": "markdown",
   "id": "e42273bd-b8b7-4697-ba08-01b1fc77bfcd",
   "metadata": {},
   "source": [
    "### if文（条件文）"
   ]
  },
  {
   "cell_type": "markdown",
   "id": "af96b4c4-913d-4983-a162-2f9992b6305d",
   "metadata": {},
   "source": [
    "### for文、while文（ループ）"
   ]
  },
  {
   "cell_type": "markdown",
   "id": "048d3215-0d07-48c5-a81d-29f7708b9d4a",
   "metadata": {},
   "source": [
    "### クラス、オブジェクト、メソッド"
   ]
  },
  {
   "cell_type": "markdown",
   "id": "21f79b7c-6b9e-4518-8627-e7fa27c2f290",
   "metadata": {},
   "source": [
    "### モジュールのインポート"
   ]
  },
  {
   "cell_type": "markdown",
   "id": "52387b0b-62fe-4f6b-a1d2-bdf3c44a6197",
   "metadata": {},
   "source": [
    "## 実用\n",
    "\n",
    "### 実習で登場する組み込み関数（Built-in functions）"
   ]
  },
  {
   "cell_type": "markdown",
   "id": "55d88aea-34f5-4e7d-8dd9-66026016f17d",
   "metadata": {},
   "source": [
    "### numpy"
   ]
  },
  {
   "cell_type": "markdown",
   "id": "34566fb5-a213-45f6-a00d-1a7421cd5e6f",
   "metadata": {},
   "source": [
    "### matplotlib"
   ]
  },
  {
   "cell_type": "code",
   "execution_count": null,
   "id": "0f8e35e6-ba22-4af5-989b-6395d7143c1f",
   "metadata": {},
   "outputs": [],
   "source": []
  }
 ],
 "metadata": {
  "kernelspec": {
   "display_name": "Python 3 (ipykernel)",
   "language": "python",
   "name": "python3"
  },
  "language_info": {
   "codemirror_mode": {
    "name": "ipython",
    "version": 3
   },
   "file_extension": ".py",
   "mimetype": "text/x-python",
   "name": "python",
   "nbconvert_exporter": "python",
   "pygments_lexer": "ipython3",
   "version": "3.8.10"
  }
 },
 "nbformat": 4,
 "nbformat_minor": 5
}
